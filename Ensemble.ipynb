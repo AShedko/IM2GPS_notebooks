{
 "cells": [
  {
   "cell_type": "code",
   "execution_count": 2,
   "metadata": {},
   "outputs": [],
   "source": [
    "from __future__ import print_function, division\n",
    "\n",
    "from sklearn import metrics\n",
    "import torch\n",
    "import torch.nn as nn\n",
    "import torch.nn.functional as F\n",
    "import torch.optim as optim\n",
    "from torch.optim import lr_scheduler\n",
    "import numpy as np\n",
    "import torchvision\n",
    "from torchvision import datasets, models, transforms\n",
    "import torch.utils.data as data\n",
    "from torchvision.datasets.folder import *\n",
    "import PIL, gc\n",
    "\n",
    "import matplotlib.pyplot as plt\n",
    "import time\n",
    "import os\n",
    "import copy\n",
    "from itertools import chain\n",
    "import pretrainedmodels.utils as utils\n",
    "import pretrainedmodels\n",
    "\n",
    "from torchviz import make_dot, make_dot_from_trace\n",
    "\n",
    "%matplotlib inline\n",
    "plt.ion()   # interactive mode\n",
    "BATCH = 1\n",
    "N_layers = 2 # LSTM"
   ]
  },
  {
   "cell_type": "code",
   "execution_count": 3,
   "metadata": {
    "code_folding": [
     23
    ]
   },
   "outputs": [],
   "source": [
    "# Transforms\n",
    "data_transforms = {\n",
    "    'train': transforms.Compose([\n",
    "        transforms.RandomResizedCrop(224),\n",
    "        transforms.RandomHorizontalFlip(),\n",
    "        transforms.ToTensor(),\n",
    "        transforms.Normalize([0.485, 0.456, 0.406], [0.229, 0.224, 0.225])\n",
    "    ]),\n",
    "    'val': transforms.Compose([\n",
    "        transforms.Resize(256),\n",
    "        transforms.CenterCrop(224),\n",
    "        transforms.ToTensor(),\n",
    "        transforms.Normalize([0.485, 0.456, 0.406], [0.229, 0.224, 0.225])\n",
    "    ]),\n",
    "    'test': transforms.Compose([\n",
    "        transforms.Resize(256),\n",
    "        transforms.CenterCrop(224),\n",
    "        transforms.ToTensor(),\n",
    "        transforms.Normalize([0.485, 0.456, 0.406], [0.229, 0.224, 0.225])\n",
    "    ]),\n",
    "}\n",
    "\n",
    "# Special class\n",
    "class MultiImageFolder(data.Dataset):\n",
    "    \"\"\"A generic data loader where the images are arranged in this way: ::\n",
    "        root/dog/xxx.png\n",
    "        root/dog/xxy.png\n",
    "        root/dog/xxz.png\n",
    "        root/cat/123.png\n",
    "        root/cat/nsdf3.png\n",
    "        root/cat/asd932_.png\n",
    "    Args:\n",
    "        root (string): Root directory path.\n",
    "        transform (callable, optional): A function/transform that  takes in an PIL image\n",
    "            and returns a transformed version. E.g, ``transforms.RandomCrop``\n",
    "        target_transform (callable, optional): A function/transform that takes in the\n",
    "            target and transforms it.\n",
    "        loader (callable, optional): A function to load an image given its path.\n",
    "     Attributes:\n",
    "        classes (list): List of the class names.\n",
    "        class_to_idx (dict): Dict with items (class_name, class_index).\n",
    "        imgs (list): List of (image path, class_index) tuples\n",
    "    \"\"\"\n",
    "\n",
    "    def __init__(self, root, transform=None, target_transform=None,\n",
    "                 loader=default_loader, len_seq=4):\n",
    "        classes, class_to_idx = find_classes(root)\n",
    "        imgs = make_dataset(root, class_to_idx, [\".jpg\",\".jpeg\",\".png\"])\n",
    "        if len(imgs) == 0:\n",
    "            raise(RuntimeError(\"Found 0 images in subfolders of: \" + root + \"\\n\"\n",
    "                               \"Supported image extensions are: \" + \",\".join(IMG_EXTENSIONS)))\n",
    "\n",
    "        self.root = root\n",
    "        self.imgs = imgs\n",
    "        self.classes = classes\n",
    "        self.class_to_idx = class_to_idx\n",
    "        self.transform = transform\n",
    "        self.target_transform = target_transform\n",
    "        self.loader = loader\n",
    "        self.len_seq =len_seq\n",
    "\n",
    "    def __len__(self): \n",
    "        return len(self.imgs)//self.len_seq\n",
    "        \n",
    "    def __getitem__(self, index):\n",
    "        \"\"\"\n",
    "        Args:\n",
    "            index (int): Index\n",
    "        Returns:\n",
    "            tuple: (image, target) where target is class_index of the target class.\n",
    "        \"\"\"\n",
    "        img_l = []\n",
    "        target_l = []\n",
    "        for i in range(self.len_seq):\n",
    "            path, target = self.imgs[self.len_seq*index+i]\n",
    "            img = self.loader(path)\n",
    "            if self.transform is not None:\n",
    "                img = self.transform(img)\n",
    "            if self.target_transform is not None:\n",
    "                target = self.target_transform(target)\n",
    "            if target_l and target != target_l[0]: break\n",
    "            img_l += [img]\n",
    "            target_l += [target]\n",
    "\n",
    "        return img_l, target\n",
    "\n",
    "# Datasets\n",
    "data_dir = './LittlePlaNet/data/cities/'\n",
    "image_datasets = {x: MultiImageFolder(os.path.join(data_dir, x),\n",
    "                                           data_transforms[x], len_seq=8)\n",
    "                   for x in ['train', 'val', 'test']}\n",
    "dataloaders = {x: torch.utils.data.DataLoader(image_datasets[x], batch_size=BATCH,\n",
    "                                           shuffle=True, num_workers=8, drop_last=True)\n",
    "                   for x in ['train', 'val', 'test']}\n",
    "dataset_sizes = {x: len(image_datasets[x]) for x in ['train', 'val', 'test']}\n",
    "class_names = image_datasets['train'].classes\n",
    "device = torch.device(\"cuda:0\" if torch.cuda.is_available() else \"cpu\")\n",
    "# device = torch.device(\"cpu\")"
   ]
  },
  {
   "cell_type": "code",
   "execution_count": 12,
   "metadata": {
    "code_folding": [
     0
    ]
   },
   "outputs": [],
   "source": [
    "def train_model(model, criterion, optimizer, scheduler, num_epochs=25):\n",
    "    since = time.time()\n",
    "\n",
    "    hist = {\"train\":[], \"val\":[]}\n",
    "        \n",
    "    best_model_wts = copy.deepcopy(model.state_dict())\n",
    "    best_acc = 0.0\n",
    "\n",
    "    for epoch in range(num_epochs):\n",
    "        print('Epoch {}/{}'.format(epoch, num_epochs - 1))\n",
    "        print('-' * 10)\n",
    "\n",
    "        # Each epoch has a training and validation phase\n",
    "        for phase in ['train', 'val']:\n",
    "            if phase == 'train':            \n",
    "                scheduler.step()\n",
    "                model.train()  # Set model to training mode\n",
    "                \n",
    "            else:\n",
    "                model.eval()   # Set model to evaluate mode\n",
    "\n",
    "            running_loss = 0.0\n",
    "            running_corrects = 0\n",
    "\n",
    "            # Iterate over data.\n",
    "            for inputs, labels in dataloaders[phase]:\n",
    "#                 inputs = inputs.to(device)\n",
    "                labels = labels.to(device)\n",
    "\n",
    "                # zero the parameter gradients\n",
    "                optimizer.zero_grad()\n",
    "\n",
    "                # forward\n",
    "                # track history if only in train\n",
    "                with torch.set_grad_enabled(phase == 'train'):\n",
    "                                            # last batch classes\n",
    "                    outputs = model(inputs)                                                \n",
    "                    _, preds = torch.max(outputs, 1)\n",
    "                    labels,\n",
    "                    loss = criterion(outputs, labels)\n",
    "\n",
    "                    # backward + optimize only if in training phase\n",
    "                    if phase == 'train':\n",
    "                        loss.backward()\n",
    "                        optimizer.step()\n",
    "\n",
    "                # statistics\n",
    "                running_loss += loss.item() * BATCH\n",
    "                running_corrects += torch.sum(preds == labels.data)\n",
    "            \n",
    "            epoch_loss = running_loss / dataset_sizes[phase]\n",
    "            epoch_acc = running_corrects.double() / dataset_sizes[phase]\n",
    "            \n",
    "            print('{} Loss: {:.4f} Acc: {:.4f}'.format(\n",
    "                phase, epoch_loss, epoch_acc))\n",
    "            hist[phase] += [[epoch_loss, epoch_acc]]\n",
    "            \n",
    "            # deep copy the model\n",
    "            if phase == 'val' and epoch_acc > best_acc:\n",
    "                best_acc = epoch_acc\n",
    "                best_model_wts = copy.deepcopy(model.state_dict())\n",
    "\n",
    "        print()\n",
    "\n",
    "    time_elapsed = time.time() - since\n",
    "    print('Training complete in {:.0f}m {:.0f}s'.format(\n",
    "        time_elapsed // 60, time_elapsed % 60))\n",
    "    print('Best val Acc: {:4f}'.format(best_acc))\n",
    "\n",
    "    # load best model weights\n",
    "    model.load_state_dict(best_model_wts)\n",
    "    return model, hist"
   ]
  },
  {
   "cell_type": "code",
   "execution_count": 15,
   "metadata": {},
   "outputs": [],
   "source": [
    "model_ft = torch.load(\"models/resnet50_trained\")"
   ]
  },
  {
   "cell_type": "code",
   "execution_count": 4,
   "metadata": {},
   "outputs": [],
   "source": [
    "class Ensemble(nn.Module):\n",
    "    def __init__(self, ms, out_dim):\n",
    "        super(Ensemble, self).__init__()\n",
    "        self.ms = ms\n",
    "#         self.trf = trf\n",
    "        self.out_dim = out_dim\n",
    "        self.lin  = [nn.Linear(out_dim,out_dim).to(device) for i in range(len(ms))]\n",
    "        for l in self.lin:\n",
    "            l.weight = torch.nn.Parameter(torch.ones(out_dim,out_dim, device=device))\n",
    "            l.bias = torch.nn.Parameter(torch.zeros(out_dim, device=device))\n",
    "        self.k  = len(ms)\n",
    "        \n",
    "    def forward(self, Xs):\n",
    "        #                     batch , out \n",
    "        res = torch.zeros(Xs[0].size(0), self.out_dim, requires_grad=True).to(device)\n",
    "        for i in  range(len(Xs)):\n",
    "            res +=  self.lin[i%self.k](self.ms[i%self.k](Xs[i].to(device)))\n",
    "        res = nn.Softmax(dim=1)(res)\n",
    "        return res"
   ]
  },
  {
   "cell_type": "code",
   "execution_count": 19,
   "metadata": {},
   "outputs": [],
   "source": [
    "def avgmodel(m, inp):\n",
    "    mn = torch.stack([m(inp[i].to(device)) for i in range(len(inp))]).squeeze().mean(0)\n",
    "    if len(mn.shape) == 1: return mn.max(0)[1]\n",
    "    return mn.max(1)[1]"
   ]
  },
  {
   "cell_type": "code",
   "execution_count": 21,
   "metadata": {
    "scrolled": true
   },
   "outputs": [],
   "source": [
    "# trf = nn.Sequential(*list(model_ft.children())[:-3])\n",
    "# md  = nn.Sequential(*list(model_ft.children())[-3:])\n",
    "ens = Ensemble([ model_ft for i in range(3)], 10)\n",
    "\n"
   ]
  },
  {
   "cell_type": "code",
   "execution_count": 22,
   "metadata": {},
   "outputs": [],
   "source": [
    "criterion = nn.CrossEntropyLoss()\n",
    "\n",
    "# Observe that all parameters are being optimized\n",
    "optimizer_ft = optim.Adam( chain([list(ens.lin[i].parameters())[0] for i in range(3)],\n",
    "                                 [list(ens.lin[i].parameters())[1] for i in range(3)]), lr=0.001)\n",
    "\n",
    "# Decay LR by a factor of 0.1 every 7 epochs\n",
    "exp_lr_scheduler = lr_scheduler.StepLR(optimizer_ft, step_size=7, gamma=0.1)\n"
   ]
  },
  {
   "cell_type": "code",
   "execution_count": 23,
   "metadata": {
    "collapsed": true
   },
   "outputs": [
    {
     "name": "stdout",
     "output_type": "stream",
     "text": [
      "Epoch 0/24\n",
      "----------\n",
      "train Loss: 2.2547 Acc: 0.3676\n",
      "val Loss: 2.1996 Acc: 0.4167\n",
      "\n",
      "Epoch 1/24\n",
      "----------\n",
      "train Loss: 2.1368 Acc: 0.5294\n",
      "val Loss: 2.1735 Acc: 0.5417\n",
      "\n",
      "Epoch 2/24\n",
      "----------\n",
      "train Loss: 2.0734 Acc: 0.5637\n",
      "val Loss: 2.0904 Acc: 0.3333\n",
      "\n",
      "Epoch 3/24\n",
      "----------\n",
      "train Loss: 2.0176 Acc: 0.6373\n",
      "val Loss: 2.0061 Acc: 0.6667\n",
      "\n",
      "Epoch 4/24\n",
      "----------\n",
      "train Loss: 1.9416 Acc: 0.7010\n",
      "val Loss: 2.0049 Acc: 0.5417\n",
      "\n",
      "Epoch 5/24\n",
      "----------\n",
      "train Loss: 1.9067 Acc: 0.7647\n",
      "val Loss: 1.9575 Acc: 0.5417\n",
      "\n",
      "Epoch 6/24\n",
      "----------\n",
      "train Loss: 1.9023 Acc: 0.7255\n",
      "val Loss: 1.8947 Acc: 0.6667\n",
      "\n",
      "Epoch 7/24\n",
      "----------\n",
      "train Loss: 1.8695 Acc: 0.7549\n",
      "val Loss: 1.9473 Acc: 0.5417\n",
      "\n",
      "Epoch 8/24\n",
      "----------\n",
      "train Loss: 1.8378 Acc: 0.8137\n",
      "val Loss: 1.9824 Acc: 0.5000\n",
      "\n",
      "Epoch 9/24\n",
      "----------\n",
      "train Loss: 1.8566 Acc: 0.7941\n",
      "val Loss: 1.9733 Acc: 0.5833\n",
      "\n",
      "Epoch 10/24\n",
      "----------\n",
      "train Loss: 1.8536 Acc: 0.7598\n",
      "val Loss: 1.9781 Acc: 0.5417\n",
      "\n",
      "Epoch 11/24\n",
      "----------\n",
      "train Loss: 1.8792 Acc: 0.7647\n",
      "val Loss: 1.9216 Acc: 0.7083\n",
      "\n",
      "Epoch 12/24\n",
      "----------\n",
      "train Loss: 1.8461 Acc: 0.7647\n",
      "val Loss: 1.9992 Acc: 0.5833\n",
      "\n",
      "Epoch 13/24\n",
      "----------\n",
      "train Loss: 1.8305 Acc: 0.8186\n",
      "val Loss: 2.0739 Acc: 0.5000\n",
      "\n",
      "Epoch 14/24\n",
      "----------\n",
      "train Loss: 1.8302 Acc: 0.8137\n",
      "val Loss: 1.9600 Acc: 0.5417\n",
      "\n",
      "Epoch 15/24\n",
      "----------\n",
      "train Loss: 1.8212 Acc: 0.7941\n",
      "val Loss: 1.9769 Acc: 0.5000\n",
      "\n",
      "Epoch 16/24\n",
      "----------\n",
      "train Loss: 1.8369 Acc: 0.7696\n",
      "val Loss: 1.9300 Acc: 0.6667\n",
      "\n",
      "Epoch 17/24\n",
      "----------\n",
      "train Loss: 1.8680 Acc: 0.7451\n",
      "val Loss: 1.9601 Acc: 0.5833\n",
      "\n",
      "Epoch 18/24\n",
      "----------\n",
      "train Loss: 1.8572 Acc: 0.7451\n",
      "val Loss: 1.8800 Acc: 0.6667\n",
      "\n",
      "Epoch 19/24\n",
      "----------\n",
      "train Loss: 1.8559 Acc: 0.7647\n",
      "val Loss: 1.9356 Acc: 0.6667\n",
      "\n",
      "Epoch 20/24\n",
      "----------\n",
      "train Loss: 1.8419 Acc: 0.7500\n",
      "val Loss: 1.9694 Acc: 0.5417\n",
      "\n",
      "Epoch 21/24\n",
      "----------\n",
      "train Loss: 1.8446 Acc: 0.7941\n",
      "val Loss: 1.9773 Acc: 0.5833\n",
      "\n",
      "Epoch 22/24\n",
      "----------\n",
      "train Loss: 1.8298 Acc: 0.8137\n",
      "val Loss: 1.9264 Acc: 0.5833\n",
      "\n",
      "Epoch 23/24\n",
      "----------\n",
      "train Loss: 1.8247 Acc: 0.7941\n",
      "val Loss: 2.0644 Acc: 0.3750\n",
      "\n",
      "Epoch 24/24\n",
      "----------\n",
      "train Loss: 1.8041 Acc: 0.8333\n",
      "val Loss: 1.9570 Acc: 0.5000\n",
      "\n",
      "Training complete in 27m 33s\n",
      "Best val Acc: 0.708333\n"
     ]
    }
   ],
   "source": [
    "ens, hist = train_model(ens,criterion, optimizer_ft, exp_lr_scheduler, num_epochs=25)"
   ]
  },
  {
   "cell_type": "code",
   "execution_count": 21,
   "metadata": {},
   "outputs": [],
   "source": [
    "newtestds = MultiImageFolder(\"data/cities/\",data_transforms[\"test\"],len_seq=5)\n",
    "nt_dataloader = torch.utils.data.DataLoader(\n",
    "    newtestds,batch_size=BATCH, shuffle=True, num_workers=4, drop_last=True)\n",
    "class_names = newtestds.classes"
   ]
  },
  {
   "cell_type": "code",
   "execution_count": 6,
   "metadata": {},
   "outputs": [],
   "source": [
    "ens = torch.load(\"models/ens_trained\")\n",
    "# ens.ms = [m.cpu() for m in ens.ms ]"
   ]
  },
  {
   "cell_type": "code",
   "execution_count": 26,
   "metadata": {},
   "outputs": [
    {
     "ename": "TypeError",
     "evalue": "iteration over a 0-d tensor",
     "output_type": "error",
     "traceback": [
      "\u001b[0;31m---------------------------------------------------------------------------\u001b[0m",
      "\u001b[0;31mTypeError\u001b[0m                                 Traceback (most recent call last)",
      "\u001b[0;32m<ipython-input-26-5d172b6dc224>\u001b[0m in \u001b[0;36m<module>\u001b[0;34m()\u001b[0m\n\u001b[1;32m      5\u001b[0m     \u001b[0mprs\u001b[0m \u001b[0;34m=\u001b[0m \u001b[0mavgmodel\u001b[0m\u001b[0;34m(\u001b[0m\u001b[0mmodel_ft\u001b[0m\u001b[0;34m,\u001b[0m\u001b[0mx\u001b[0m\u001b[0;34m)\u001b[0m\u001b[0;34m\u001b[0m\u001b[0m\n\u001b[1;32m      6\u001b[0m \u001b[0;31m#     prs = sm(x)[len(x)-1,:,:].max(1)[1]\u001b[0m\u001b[0;34m\u001b[0m\u001b[0;34m\u001b[0m\u001b[0m\n\u001b[0;32m----> 7\u001b[0;31m     \u001b[0mpreds\u001b[0m \u001b[0;34m+=\u001b[0m\u001b[0mlist\u001b[0m\u001b[0;34m(\u001b[0m\u001b[0mprs\u001b[0m\u001b[0;34m.\u001b[0m\u001b[0mcpu\u001b[0m\u001b[0;34m(\u001b[0m\u001b[0;34m)\u001b[0m\u001b[0;34m)\u001b[0m\u001b[0;34m\u001b[0m\u001b[0m\n\u001b[0m\u001b[1;32m      8\u001b[0m     \u001b[0mY\u001b[0m \u001b[0;34m+=\u001b[0m \u001b[0mlist\u001b[0m\u001b[0;34m(\u001b[0m\u001b[0my\u001b[0m\u001b[0;34m.\u001b[0m\u001b[0mcpu\u001b[0m\u001b[0;34m(\u001b[0m\u001b[0;34m)\u001b[0m\u001b[0;34m)\u001b[0m\u001b[0;34m\u001b[0m\u001b[0m\n\u001b[1;32m      9\u001b[0m \u001b[0mscor\u001b[0m \u001b[0;34m=\u001b[0m \u001b[0mmetrics\u001b[0m\u001b[0;34m.\u001b[0m\u001b[0maccuracy_score\u001b[0m\u001b[0;34m(\u001b[0m\u001b[0mY\u001b[0m\u001b[0;34m,\u001b[0m \u001b[0mpreds\u001b[0m\u001b[0;34m)\u001b[0m\u001b[0;34m\u001b[0m\u001b[0m\n",
      "\u001b[0;32m~/anaconda3/lib/python3.6/site-packages/torch/tensor.py\u001b[0m in \u001b[0;36m__iter__\u001b[0;34m(self)\u001b[0m\n\u001b[1;32m    358\u001b[0m         \u001b[0;31m# map will interleave them.)\u001b[0m\u001b[0;34m\u001b[0m\u001b[0;34m\u001b[0m\u001b[0m\n\u001b[1;32m    359\u001b[0m         \u001b[0;32mif\u001b[0m \u001b[0mself\u001b[0m\u001b[0;34m.\u001b[0m\u001b[0mdim\u001b[0m\u001b[0;34m(\u001b[0m\u001b[0;34m)\u001b[0m \u001b[0;34m==\u001b[0m \u001b[0;36m0\u001b[0m\u001b[0;34m:\u001b[0m\u001b[0;34m\u001b[0m\u001b[0m\n\u001b[0;32m--> 360\u001b[0;31m             \u001b[0;32mraise\u001b[0m \u001b[0mTypeError\u001b[0m\u001b[0;34m(\u001b[0m\u001b[0;34m'iteration over a 0-d tensor'\u001b[0m\u001b[0;34m)\u001b[0m\u001b[0;34m\u001b[0m\u001b[0m\n\u001b[0m\u001b[1;32m    361\u001b[0m         \u001b[0;32mreturn\u001b[0m \u001b[0miter\u001b[0m\u001b[0;34m(\u001b[0m\u001b[0mimap\u001b[0m\u001b[0;34m(\u001b[0m\u001b[0;32mlambda\u001b[0m \u001b[0mi\u001b[0m\u001b[0;34m:\u001b[0m \u001b[0mself\u001b[0m\u001b[0;34m[\u001b[0m\u001b[0mi\u001b[0m\u001b[0;34m]\u001b[0m\u001b[0;34m,\u001b[0m \u001b[0mrange\u001b[0m\u001b[0;34m(\u001b[0m\u001b[0mself\u001b[0m\u001b[0;34m.\u001b[0m\u001b[0msize\u001b[0m\u001b[0;34m(\u001b[0m\u001b[0;36m0\u001b[0m\u001b[0;34m)\u001b[0m\u001b[0;34m)\u001b[0m\u001b[0;34m)\u001b[0m\u001b[0;34m)\u001b[0m\u001b[0;34m\u001b[0m\u001b[0m\n\u001b[1;32m    362\u001b[0m \u001b[0;34m\u001b[0m\u001b[0m\n",
      "\u001b[0;31mTypeError\u001b[0m: iteration over a 0-d tensor"
     ]
    }
   ],
   "source": [
    "#avg\n",
    "preds = []\n",
    "Y = []\n",
    "for x,y in nt_dataloader:\n",
    "    prs = avgmodel(model_ft,x)\n",
    "#     prs = sm(x)[len(x)-1,:,:].max(1)[1]\n",
    "    preds +=list(prs.cpu())\n",
    "    Y += list(y.cpu())\n",
    "scor = metrics.accuracy_score(Y, preds)\n",
    "print( scor )\n",
    "print(metrics.f1_score(Y,preds, average=\"weighted\"))\n",
    "plt.matshow(metrics.confusion_matrix(Y,preds).astype(np.double))"
   ]
  },
  {
   "cell_type": "code",
   "execution_count": 25,
   "metadata": {},
   "outputs": [
    {
     "name": "stdout",
     "output_type": "stream",
     "text": [
      "0.635\n",
      "0.6377454501632739\n"
     ]
    },
    {
     "data": {
      "text/plain": [
       "<matplotlib.image.AxesImage at 0x7fcdf017dd68>"
      ]
     },
     "execution_count": 25,
     "metadata": {},
     "output_type": "execute_result"
    },
    {
     "data": {
      "image/png": "[encoded data removed]",
      "text/plain": [
       "<matplotlib.figure.Figure at 0x7fcdf08a5710>"
      ]
     },
     "metadata": {},
     "output_type": "display_data"
    }
   ],
   "source": [
    "preds = []\n",
    "Y = []\n",
    "for x,y in nt_dataloader:\n",
    "#     x = [xi.cpu() for xi in x]\n",
    "    _, prs = ens(x).max(1)\n",
    "    preds +=[prs.cpu()]\n",
    "    Y +=[y.cpu()]\n",
    "scor = metrics.accuracy_score(Y, preds)\n",
    "print( scor )\n",
    "print(metrics.f1_score(Y,preds, average=\"weighted\"))\n",
    "plt.matshow(metrics.confusion_matrix(Y,preds).astype(np.double))"
   ]
  },
  {
   "cell_type": "code",
   "execution_count": 28,
   "metadata": {},
   "outputs": [
    {
     "name": "stderr",
     "output_type": "stream",
     "text": [
      "/home/ashedko/anaconda3/lib/python3.6/site-packages/torch/serialization.py:193: UserWarning: Couldn't retrieve source code for container of type Ensemble. It won't be checked for correctness upon loading.\n",
      "  \"type \" + obj.__name__ + \". It won't be checked \"\n"
     ]
    }
   ],
   "source": [
    "torch.save(ens,\"models/ens_trained\")"
   ]
  },
  {
   "cell_type": "code",
   "execution_count": 31,
   "metadata": {},
   "outputs": [
    {
     "data": {
      "text/plain": [
       "Text(0,0.5,'Loss')"
      ]
     },
     "execution_count": 31,
     "metadata": {},
     "output_type": "execute_result"
    }
   ],
   "source": [
    "%matplotlib qt5\n",
    "# hist= hist_new\n",
    "train = np.asarray(hist[\"train\"])\n",
    "val = np.asarray(hist[\"val\"])\n",
    "plt.plot(range(25),train[:,0], label = \"Train\")\n",
    "plt.plot(range(25),val[:,0], label = \"Val\")\n",
    "plt.legend()\n",
    "plt.xlabel(\"Epoch\")\n",
    "plt.ylabel(\"Loss\")\n",
    "# plt.yticks(np.arange(1.3,2.3, step=0.2))"
   ]
  },
  {
   "cell_type": "code",
   "execution_count": 24,
   "metadata": {
    "collapsed": true
   },
   "outputs": [
    {
     "name": "stderr",
     "output_type": "stream",
     "text": [
      "Exception ignored in: <bound method _DataLoaderIter.__del__ of <torch.utils.data.dataloader._DataLoaderIter object at 0x7fcdf0830400>>\n",
      "Traceback (most recent call last):\n",
      "  File \"/home/ashedko/anaconda3/lib/python3.6/site-packages/torch/utils/data/dataloader.py\", line 349, in __del__\n",
      "    self._shutdown_workers()\n",
      "  File \"/home/ashedko/anaconda3/lib/python3.6/site-packages/torch/utils/data/dataloader.py\", line 328, in _shutdown_workers\n",
      "    self.worker_result_queue.get()\n",
      "  File \"/home/ashedko/anaconda3/lib/python3.6/multiprocessing/queues.py\", line 337, in get\n",
      "    return _ForkingPickler.loads(res)\n",
      "  File \"/home/ashedko/anaconda3/lib/python3.6/site-packages/torch/multiprocessing/reductions.py\", line 70, in rebuild_storage_fd\n",
      "    fd = df.detach()\n",
      "  File \"/home/ashedko/anaconda3/lib/python3.6/multiprocessing/resource_sharer.py\", line 57, in detach\n",
      "    with _resource_sharer.get_connection(self._id) as conn:\n",
      "  File \"/home/ashedko/anaconda3/lib/python3.6/multiprocessing/resource_sharer.py\", line 87, in get_connection\n",
      "    c = Client(address, authkey=process.current_process().authkey)\n",
      "  File \"/home/ashedko/anaconda3/lib/python3.6/multiprocessing/connection.py\", line 493, in Client\n",
      "    answer_challenge(c, authkey)\n",
      "  File \"/home/ashedko/anaconda3/lib/python3.6/multiprocessing/connection.py\", line 737, in answer_challenge\n",
      "    response = connection.recv_bytes(256)        # reject large message\n",
      "  File \"/home/ashedko/anaconda3/lib/python3.6/multiprocessing/connection.py\", line 216, in recv_bytes\n",
      "    buf = self._recv_bytes(maxlength)\n",
      "  File \"/home/ashedko/anaconda3/lib/python3.6/multiprocessing/connection.py\", line 407, in _recv_bytes\n",
      "    buf = self._recv(4)\n",
      "  File \"/home/ashedko/anaconda3/lib/python3.6/multiprocessing/connection.py\", line 379, in _recv\n",
      "    chunk = read(handle, remaining)\n",
      "ConnectionResetError: [Errno 104] Connection reset by peer\n"
     ]
    },
    {
     "data": {
      "text/plain": [
       "tensor(5, device='cuda:0')"
      ]
     },
     "execution_count": 24,
     "metadata": {},
     "output_type": "execute_result"
    }
   ],
   "source": [
    "x,y = next(iter(dataloaders[\"val\"]))\n",
    "# x = x\n",
    "# r = ens(x)\n",
    "# x[1].shape\n",
    "prs = avgmodel(model_ft,x)\n",
    "prs"
   ]
  },
  {
   "cell_type": "code",
   "execution_count": 30,
   "metadata": {},
   "outputs": [
    {
     "data": {
      "text/plain": [
       "Text(0.5,0,'Num examples')"
      ]
     },
     "execution_count": 30,
     "metadata": {},
     "output_type": "execute_result"
    },
    {
     "data": {
      "image/png": "[encoded data removed]",
      "text/plain": [
       "<matplotlib.figure.Figure at 0x7fce500e2b38>"
      ]
     },
     "metadata": {},
     "output_type": "display_data"
    }
   ],
   "source": [
    "%matplotlib qt5\n",
    "x=[2,5,8,10]\n",
    "y1=[0.502,0.635,0.656,0.74]\n",
    "y2=[0.504,0.637,0.633,0.741]\n",
    "\n",
    "plt.plot(x,y1, label=\"ACC\")\n",
    "plt.plot(x,y2, label=\"F1\")\n",
    "plt.ylabel(\"Metric\")\n",
    "plt.xlabel(\"Num examples\")"
   ]
  },
  {
   "cell_type": "code",
   "execution_count": null,
   "metadata": {},
   "outputs": [],
   "source": []
  }
 ],
 "metadata": {
  "kernelspec": {
   "display_name": "Python 3",
   "language": "python",
   "name": "python3"
  },
  "language_info": {
   "codemirror_mode": {
    "name": "ipython",
    "version": 3
   },
   "file_extension": ".py",
   "mimetype": "text/x-python",
   "name": "python",
   "nbconvert_exporter": "python",
   "pygments_lexer": "ipython3",
   "version": "3.6.4"
  }
 },
 "nbformat": 4,
 "nbformat_minor": 2
}
