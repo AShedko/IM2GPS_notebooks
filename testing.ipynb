{
 "cells": [
  {
   "cell_type": "code",
   "execution_count": 7,
   "metadata": {},
   "outputs": [],
   "source": [
    "import numpy as np\n",
    "from PIL import Image\n",
    "\n",
    "import cv2\n",
    "from matplotlib import pyplot as plt\n",
    "import numpy as np\n",
    "import argparse\n",
    "import cv2\n",
    "from sklearn.cluster import MiniBatchKMeans\n",
    "from matplotlib.backends.backend_qt5agg import FigureCanvasQTAgg as FigureCanvas\n",
    "from matplotlib.figure import Figure\n",
    "import matplotlib.pyplot as plt\n",
    "import sklearn\n",
    "import scipy.special as spc\n",
    "\n",
    "%matplotlib qt4"
   ]
  },
  {
   "cell_type": "code",
   "execution_count": 6,
   "metadata": {},
   "outputs": [
    {
     "data": {
      "text/plain": [
       "1024"
      ]
     },
     "execution_count": 6,
     "metadata": {},
     "output_type": "execute_result"
    }
   ],
   "source": []
  },
  {
   "cell_type": "code",
   "execution_count": 4,
   "metadata": {},
   "outputs": [],
   "source": [
    "# net = caffe.Net(\"./LittlePlaNet/models/googlenet/googlenet_solver.prototxt\", caffe.TEST)\n",
    "\n",
    "image = cv2.imread(\"./pic.png\")"
   ]
  },
  {
   "cell_type": "code",
   "execution_count": 1,
   "metadata": {},
   "outputs": [
    {
     "ename": "NameError",
     "evalue": "name 'plt' is not defined",
     "output_type": "error",
     "traceback": [
      "\u001b[0;31m---------------------------------------------------------------------------\u001b[0m",
      "\u001b[0;31mNameError\u001b[0m                                 Traceback (most recent call last)",
      "\u001b[0;32m<ipython-input-1-43833461d1aa>\u001b[0m in \u001b[0;36m<module>\u001b[0;34m()\u001b[0m\n\u001b[1;32m      1\u001b[0m \u001b[0;31m# convert the image to grayscale and create a histogram\u001b[0m\u001b[0;34m\u001b[0m\u001b[0;34m\u001b[0m\u001b[0m\n\u001b[0;32m----> 2\u001b[0;31m \u001b[0mfig\u001b[0m\u001b[0;34m,\u001b[0m\u001b[0maxes\u001b[0m \u001b[0;34m=\u001b[0m \u001b[0mplt\u001b[0m\u001b[0;34m.\u001b[0m\u001b[0msubplots\u001b[0m\u001b[0;34m(\u001b[0m\u001b[0;36m1\u001b[0m\u001b[0;34m,\u001b[0m\u001b[0;36m3\u001b[0m\u001b[0;34m)\u001b[0m\u001b[0;34m\u001b[0m\u001b[0m\n\u001b[0m\u001b[1;32m      3\u001b[0m \u001b[0ma1\u001b[0m\u001b[0;34m,\u001b[0m\u001b[0ma2\u001b[0m\u001b[0;34m,\u001b[0m \u001b[0ma3\u001b[0m \u001b[0;34m=\u001b[0m \u001b[0maxes\u001b[0m\u001b[0;34m[\u001b[0m\u001b[0;36m0\u001b[0m\u001b[0;34m]\u001b[0m\u001b[0;34m,\u001b[0m \u001b[0maxes\u001b[0m\u001b[0;34m[\u001b[0m\u001b[0;36m1\u001b[0m\u001b[0;34m]\u001b[0m\u001b[0;34m,\u001b[0m \u001b[0maxes\u001b[0m\u001b[0;34m[\u001b[0m\u001b[0;36m2\u001b[0m\u001b[0;34m]\u001b[0m\u001b[0;34m\u001b[0m\u001b[0m\n\u001b[1;32m      4\u001b[0m \u001b[0ma1\u001b[0m\u001b[0;34m.\u001b[0m\u001b[0mimshow\u001b[0m\u001b[0;34m(\u001b[0m\u001b[0mimage\u001b[0m\u001b[0;34m,\u001b[0m \u001b[0maspect\u001b[0m\u001b[0;34m=\u001b[0m\u001b[0;34m\"equal\"\u001b[0m\u001b[0;34m)\u001b[0m\u001b[0;34m\u001b[0m\u001b[0m\n\u001b[1;32m      5\u001b[0m \u001b[0;34m\u001b[0m\u001b[0m\n",
      "\u001b[0;31mNameError\u001b[0m: name 'plt' is not defined"
     ]
    }
   ],
   "source": [
    "# convert the image to grayscale and create a histogram\n",
    "fig,axes = plt.subplots(1,3)\n",
    "a1,a2, a3 = axes[0], axes[1], axes[2]\n",
    "a1.imshow(image, aspect=\"equal\")\n",
    "\n",
    "color = ('b','g','r')\n",
    "for channel,col in enumerate(color):\n",
    "    histr = cv2.calcHist([image],[channel],None,[256],[0,256])\n",
    "    a3.plot(histr/max(histr),color = col)\n",
    "    plt.xlim([0,256])\n",
    "(h,w,_) = image.shape\n",
    "\n",
    "# convert the image from the RGB color space to the L*a*b*\n",
    "# color space -- since we will be clustering using k-means\n",
    "# which is based on the euclidean distance, we'll use the\n",
    "# L*a*b* color space where the euclidean distance implies\n",
    "# perceptual meaning\n",
    "image = cv2.cvtColor(image, cv2.COLOR_RGB2LAB)\n",
    " \n",
    "# reshape the image into a feature vector so that k-means\n",
    "# can be applied\n",
    "image = image.reshape((image.shape[0] * image.shape[1], 3))\n",
    " \n",
    "# apply k-means using the specified number of clusters and\n",
    "# then create the quantized image based on the predictions\n",
    "clt = MiniBatchKMeans(n_clusters = 10)\n",
    "labels = clt.fit_predict(image)\n",
    "quant = clt.cluster_centers_.astype(\"uint8\")[labels]\n",
    " \n",
    "# reshape the feature vectors to images\n",
    "quant = quant.reshape((h, w, 3))\n",
    "image = image.reshape((h, w, 3))\n",
    "\n",
    "a1.set_yticklabels([])\n",
    "a1.set_xticklabels([])\n",
    "\n",
    "a2.set_yticklabels([])\n",
    "a2.set_xticklabels([])\n",
    "\n",
    "a1.title.set_text(\"original\")\n",
    "a2.title.set_text(\"quantized\")\n",
    "\n",
    "# convert from L*a*b* to RGB\n",
    "quant = cv2.cvtColor(quant, cv2.COLOR_LAB2RGB)\n",
    "image = cv2.cvtColor(image, cv2.COLOR_LAB2RGB) \n",
    "\n",
    "a2.imshow(quant)\n",
    "\n",
    "\n",
    "plt.title('Histogram for color scale picture')\n",
    "# hist = hist / max(hist)\n",
    "plt.xlabel(\"Bins\")\n",
    "plt.ylabel(\"% of Pixels\")\n",
    "a3.yaxis.set_label_position(\"right\")\n",
    "# a2.plot(hist)\n",
    "plt.xlim([0, 256])"
   ]
  },
  {
   "cell_type": "code",
   "execution_count": 13,
   "metadata": {
    "scrolled": true
   },
   "outputs": [
    {
     "data": {
      "text/plain": [
       "<ufunc 'airy'>"
      ]
     },
     "execution_count": 13,
     "metadata": {},
     "output_type": "execute_result"
    }
   ],
   "source": []
  },
  {
   "cell_type": "code",
   "execution_count": null,
   "metadata": {},
   "outputs": [],
   "source": []
  },
  {
   "cell_type": "code",
   "execution_count": null,
   "metadata": {},
   "outputs": [],
   "source": []
  }
 ],
 "metadata": {
  "kernelspec": {
   "display_name": "Python 3",
   "language": "python",
   "name": "python3"
  },
  "language_info": {
   "codemirror_mode": {
    "name": "ipython",
    "version": 3
   },
   "file_extension": ".py",
   "mimetype": "text/x-python",
   "name": "python",
   "nbconvert_exporter": "python",
   "pygments_lexer": "ipython3",
   "version": "3.6.4"
  }
 },
 "nbformat": 4,
 "nbformat_minor": 2
}
