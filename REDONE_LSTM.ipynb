{
 "cells": [
  {
   "cell_type": "code",
   "execution_count": 1,
   "metadata": {},
   "outputs": [],
   "source": [
    "from __future__ import print_function, division\n",
    "\n",
    "from sklearn import metrics\n",
    "import torch\n",
    "import torch.nn as nn\n",
    "import torch.optim as optim\n",
    "from torch.optim import lr_scheduler\n",
    "import numpy as np\n",
    "import torchvision\n",
    "from torchvision import datasets, models, transforms\n",
    "import torch.utils.data as data\n",
    "from torchvision.datasets.folder import *\n",
    "import PIL\n",
    "\n",
    "import matplotlib.pyplot as plt\n",
    "import time\n",
    "import os\n",
    "import copy\n",
    "from itertools import chain\n",
    "import pretrainedmodels.utils as utils\n",
    "import pretrainedmodels\n",
    "\n",
    "from torchviz import make_dot, make_dot_from_trace\n",
    "\n",
    "%matplotlib inline\n",
    "plt.ion()   # interactive mode\n",
    "BATCH = 2\n",
    "N_layers = 2 # LSTM"
   ]
  },
  {
   "cell_type": "code",
   "execution_count": 2,
   "metadata": {
    "code_folding": [
     1,
     23
    ]
   },
   "outputs": [],
   "source": [
    "# Transforms\n",
    "data_transforms = {\n",
    "    'train': transforms.Compose([\n",
    "        transforms.RandomResizedCrop(224),\n",
    "        transforms.RandomHorizontalFlip(),\n",
    "        transforms.ToTensor(),\n",
    "        transforms.Normalize([0.485, 0.456, 0.406], [0.229, 0.224, 0.225])\n",
    "    ]),\n",
    "    'val': transforms.Compose([\n",
    "        transforms.Resize(256),\n",
    "        transforms.CenterCrop(224),\n",
    "        transforms.ToTensor(),\n",
    "        transforms.Normalize([0.485, 0.456, 0.406], [0.229, 0.224, 0.225])\n",
    "    ]),\n",
    "    'test': transforms.Compose([\n",
    "        transforms.Resize(256),\n",
    "        transforms.CenterCrop(224),\n",
    "        transforms.ToTensor(),\n",
    "        transforms.Normalize([0.485, 0.456, 0.406], [0.229, 0.224, 0.225])\n",
    "    ]),\n",
    "}\n",
    "\n",
    "# Special class\n",
    "class MultiImageFolder(data.Dataset):\n",
    "    \"\"\"A generic data loader where the images are arranged in this way: ::\n",
    "        root/dog/xxx.png\n",
    "        root/dog/xxy.png\n",
    "        root/dog/xxz.png\n",
    "        root/cat/123.png\n",
    "        root/cat/nsdf3.png\n",
    "        root/cat/asd932_.png\n",
    "    Args:\n",
    "        root (string): Root directory path.\n",
    "        transform (callable, optional): A function/transform that  takes in an PIL image\n",
    "            and returns a transformed version. E.g, ``transforms.RandomCrop``\n",
    "        target_transform (callable, optional): A function/transform that takes in the\n",
    "            target and transforms it.\n",
    "        loader (callable, optional): A function to load an image given its path.\n",
    "     Attributes:\n",
    "        classes (list): List of the class names.\n",
    "        class_to_idx (dict): Dict with items (class_name, class_index).\n",
    "        imgs (list): List of (image path, class_index) tuples\n",
    "    \"\"\"\n",
    "\n",
    "    def __init__(self, root, transform=None, target_transform=None,\n",
    "                 loader=default_loader, len_seq=4):\n",
    "        classes, class_to_idx = find_classes(root)\n",
    "        imgs = make_dataset(root, class_to_idx, [\".jpg\",\".jpeg\",\".png\"])\n",
    "        if len(imgs) == 0:\n",
    "            raise(RuntimeError(\"Found 0 images in subfolders of: \" + root + \"\\n\"\n",
    "                               \"Supported image extensions are: \" + \",\".join(IMG_EXTENSIONS)))\n",
    "\n",
    "        self.root = root\n",
    "        self.imgs = imgs\n",
    "        self.classes = classes\n",
    "        self.class_to_idx = class_to_idx\n",
    "        self.transform = transform\n",
    "        self.target_transform = target_transform\n",
    "        self.loader = loader\n",
    "        self.len_seq =len_seq\n",
    "\n",
    "    def __len__(self): \n",
    "        return len(self.imgs)//self.len_seq\n",
    "        \n",
    "    def __getitem__(self, index):\n",
    "        \"\"\"\n",
    "        Args:\n",
    "            index (int): Index\n",
    "        Returns:\n",
    "            tuple: (image, target) where target is class_index of the target class.\n",
    "        \"\"\"\n",
    "        img_l = []\n",
    "        target_l = []\n",
    "        for i in range(self.len_seq):\n",
    "            path, target = self.imgs[self.len_seq*index+i]\n",
    "            img = self.loader(path)\n",
    "            if self.transform is not None:\n",
    "                img = self.transform(img)\n",
    "            if self.target_transform is not None:\n",
    "                target = self.target_transform(target)\n",
    "            if target_l and target != target_l[0]: break\n",
    "            img_l += [img]\n",
    "            target_l += [target]\n",
    "\n",
    "        return img_l, target\n",
    "\n",
    "# Datasets\n",
    "data_dir = './LittlePlaNet/data/cities_L/'\n",
    "image_datasets = {x: MultiImageFolder(os.path.join(data_dir, x),\n",
    "                                           data_transforms[x], len_seq=8)\n",
    "                   for x in ['train', 'val', 'test']}\n",
    "dataloaders = {x: torch.utils.data.DataLoader(image_datasets[x], batch_size=BATCH,\n",
    "                                           shuffle=True, num_workers=8, drop_last=True)\n",
    "                   for x in ['train', 'val', 'test']}\n",
    "dataset_sizes = {x: len(image_datasets[x]) for x in ['train', 'val', 'test']}\n",
    "class_names = image_datasets['train'].classes"
   ]
  },
  {
   "cell_type": "code",
   "execution_count": 3,
   "metadata": {
    "code_folding": []
   },
   "outputs": [],
   "source": [
    "def imshow(inp, title=None):\n",
    "    \"\"\"Imshow for Tensor.\"\"\"\n",
    "    inp = inp.numpy().transpose((1, 2, 0))\n",
    "    mean = np.array([0.5, 0.5, 0.5])\n",
    "    std = np.array([0.229, 0.224, 0.225])\n",
    "    inp = std * inp + mean\n",
    "    inp = np.clip(inp, 0, 1)\n",
    "    plt.imshow(inp)\n",
    "    if title is not None:\n",
    "        plt.title(title)\n",
    "    plt.pause(0.001)  # pause a bit so that plots are updated\n"
   ]
  },
  {
   "cell_type": "code",
   "execution_count": 3,
   "metadata": {},
   "outputs": [],
   "source": [
    "import torch\n",
    "import torch.nn as nn\n",
    "\n",
    "device = torch.device(\"cuda\")\n",
    "m = torch.load(\"models/resnet50_trained\")\n",
    "\n",
    "num_ftrs = m.fc.in_features\n",
    "hidden = 80\n"
   ]
  },
  {
   "cell_type": "code",
   "execution_count": 14,
   "metadata": {},
   "outputs": [],
   "source": [
    "?nn.LSTM"
   ]
  },
  {
   "cell_type": "code",
   "execution_count": 12,
   "metadata": {
    "code_folding": []
   },
   "outputs": [],
   "source": [
    "class SeqModel(nn.Module):\n",
    "    def __init__(self, num_ftrs, hidden, transf, num_layers=N_layers):\n",
    "        super(SeqModel, self).__init__()        \n",
    "        self.hidden = hidden\n",
    "        self.num_ftrs = num_ftrs\n",
    "        \n",
    "        self.emb = transf\n",
    "        self.L = nn.LSTM(num_ftrs, hidden, num_layers=num_layers, bidirectional = True).to(device)\n",
    "        self.h2la = nn.Linear(2*hidden, len(class_names)).to(device)\n",
    "        self.drop = nn.Dropout(0.3)\n",
    "        self.h = (torch.zeros(2*N_layers, BATCH ,hidden).to(device),\n",
    "                  torch.zeros(2*N_layers,BATCH ,hidden).to(device))\n",
    "\n",
    "    def init_hidden(self):\n",
    "        self.h = (torch.randn(self.num_layers, BATCH ,self.hidden).to(device),\n",
    "                  torch.randn(self.num_layers, BATCH ,self.hidden).to(device))\n",
    "        \n",
    "    def forward(self,inp):        \n",
    "        X = torch.stack([self.emb(inp[i].to(device)) for i in range(len(inp))]).squeeze() \n",
    "#         print(X.shape)\n",
    "        o,h = self.L(X.view(len(inp), -1 , self.num_ftrs),self.h)\n",
    "        res = self.h2la(nn.Softmax(dim=1)(self.drop(o).mean(0)))\n",
    "        return res"
   ]
  },
  {
   "cell_type": "code",
   "execution_count": 13,
   "metadata": {},
   "outputs": [],
   "source": [
    "x,y = next(iter(nt_dataloader))\n",
    "y = y.to(device)\n",
    "sm = SeqModel(num_ftrs, hidden, nn.Sequential(*list(m.children())[:-1]).to(device))\n",
    "\n",
    "criterion = nn.CrossEntropyLoss()\n",
    "\n",
    "# Observe that all parameters are being optimized\n",
    "optimizer_ft = optim.Adam(chain(sm.L.parameters(),sm.h2la.parameters()) , lr=0.01)\n",
    "\n",
    "# Decay LR by a factor of 0.1 every 7 epochs\n",
    "exp_lr_scheduler = lr_scheduler.StepLR(optimizer_ft, step_size=5, gamma=0.1)\n"
   ]
  },
  {
   "cell_type": "code",
   "execution_count": 7,
   "metadata": {
    "code_folding": []
   },
   "outputs": [],
   "source": [
    "\n",
    "# inputs, classes = next(iter(dataloaders['train']))\n",
    "# inputs = torch.stack( inputs )\n",
    "# # Make a grid from batch\n",
    "# out = torchvision.utils.make_grid(inputs[:,1,:,:,:])\n",
    "\n",
    "# imshow(out, title=class_names[classes[1]])\n",
    "\n",
    "# Reset optimizer\n",
    "optimizer_ft = optim.Adam(chain(sm.L.parameters(),sm.h2la.parameters()) , lr=0.01)\n",
    "\n",
    "# Decay LR by a factor of 0.1 every 7 epochs\n",
    "exp_lr_scheduler = lr_scheduler.StepLR(optimizer_ft, step_size=5, gamma=0.1)\n"
   ]
  },
  {
   "cell_type": "code",
   "execution_count": 10,
   "metadata": {
    "code_folding": [
     0
    ]
   },
   "outputs": [],
   "source": [
    "def train_model(model, criterion, optimizer, scheduler, num_epochs=25):\n",
    "    since = time.time()\n",
    "\n",
    "    hist = {\"train\":[], \"val\":[]}\n",
    "        \n",
    "    best_model_wts = copy.deepcopy(model.state_dict())\n",
    "    best_acc = 0.0\n",
    "\n",
    "    for epoch in range(num_epochs):\n",
    "        print('Epoch {}/{}'.format(epoch, num_epochs - 1))\n",
    "        print('-' * 10)\n",
    "\n",
    "        # Each epoch has a training and validation phase\n",
    "        for phase in ['train', 'val']:\n",
    "            if phase == 'train':            \n",
    "                scheduler.step()\n",
    "                model.train()  # Set model to training mode\n",
    "                model.emb.eval()\n",
    "            else:\n",
    "                model.eval()   # Set model to evaluate mode\n",
    "\n",
    "            running_loss = 0.0\n",
    "            running_corrects = 0\n",
    "\n",
    "            # Iterate over data.\n",
    "            for inputs, labels in dataloaders[phase]:\n",
    "#                 inputs = inputs.to(device)\n",
    "                labels = labels.to(device)\n",
    "\n",
    "                # zero the parameter gradients\n",
    "                optimizer.zero_grad()\n",
    "\n",
    "                # forward\n",
    "                # track history if only in train\n",
    "                with torch.set_grad_enabled(phase == 'train'):\n",
    "                                            # last batch classes\n",
    "                    outputs = model(inputs)                                                \n",
    "                    _, preds = torch.max(outputs, 1)\n",
    "                    labels,\n",
    "                    loss = criterion(outputs, labels)\n",
    "\n",
    "                    # backward + optimize only if in training phase\n",
    "                    if phase == 'train':\n",
    "                        loss.backward()\n",
    "                        optimizer.step()\n",
    "\n",
    "                # statistics\n",
    "                running_loss += loss.item() * BATCH\n",
    "                running_corrects += torch.sum(preds == labels.data)\n",
    "            \n",
    "            epoch_loss = running_loss / dataset_sizes[phase]\n",
    "            epoch_acc = running_corrects.double() / dataset_sizes[phase]\n",
    "            \n",
    "            print('{} Loss: {:.4f} Acc: {:.4f}'.format(\n",
    "                phase, epoch_loss, epoch_acc))\n",
    "            hist[phase] += [[epoch_loss, epoch_acc]]\n",
    "            \n",
    "            # deep copy the model\n",
    "            if phase == 'val' and epoch_acc > best_acc:\n",
    "                best_acc = epoch_acc\n",
    "                best_model_wts = copy.deepcopy(model.state_dict())\n",
    "\n",
    "        print()\n",
    "\n",
    "    time_elapsed = time.time() - since\n",
    "    print('Training complete in {:.0f}m {:.0f}s'.format(\n",
    "        time_elapsed // 60, time_elapsed % 60))\n",
    "    print('Best val Acc: {:4f}'.format(best_acc))\n",
    "\n",
    "    # load best model weights\n",
    "    model.load_state_dict(best_model_wts)\n",
    "    return model, hist"
   ]
  },
  {
   "cell_type": "code",
   "execution_count": 14,
   "metadata": {
    "scrolled": true
   },
   "outputs": [
    {
     "name": "stdout",
     "output_type": "stream",
     "text": [
      "Epoch 0/24\n",
      "----------\n",
      "train Loss: 2.3155 Acc: 0.0888\n",
      "val Loss: 2.3213 Acc: 0.0000\n",
      "\n",
      "Epoch 1/24\n",
      "----------\n",
      "train Loss: 2.3133 Acc: 0.0970\n",
      "val Loss: 2.3503 Acc: 0.0147\n",
      "\n",
      "Epoch 2/24\n",
      "----------\n",
      "train Loss: 2.3117 Acc: 0.0916\n",
      "val Loss: 2.3262 Acc: 0.0147\n",
      "\n",
      "Epoch 3/24\n",
      "----------\n",
      "train Loss: 2.3124 Acc: 0.0898\n",
      "val Loss: 2.2863 Acc: 0.2206\n",
      "\n",
      "Epoch 4/24\n",
      "----------\n",
      "train Loss: 2.3164 Acc: 0.0898\n",
      "val Loss: 2.2917 Acc: 0.2206\n",
      "\n",
      "Epoch 5/24\n",
      "----------\n",
      "train Loss: 2.3025 Acc: 0.0934\n",
      "val Loss: 2.3014 Acc: 0.0147\n",
      "\n",
      "Epoch 6/24\n",
      "----------\n",
      "train Loss: 2.3020 Acc: 0.0852\n",
      "val Loss: 2.3086 Acc: 0.0147\n",
      "\n",
      "Epoch 7/24\n",
      "----------\n",
      "train Loss: 2.3016 Acc: 0.1034\n",
      "val Loss: 2.3133 Acc: 0.0147\n",
      "\n",
      "Epoch 8/24\n",
      "----------\n",
      "train Loss: 2.3016 Acc: 0.1006\n",
      "val Loss: 2.3157 Acc: 0.0147\n",
      "\n",
      "Epoch 9/24\n",
      "----------\n",
      "train Loss: 2.3014 Acc: 0.0888\n",
      "val Loss: 2.3132 Acc: 0.0147\n",
      "\n",
      "Epoch 10/24\n",
      "----------\n",
      "train Loss: 2.2989 Acc: 0.1052\n",
      "val Loss: 2.3137 Acc: 0.0147\n",
      "\n",
      "Epoch 11/24\n",
      "----------\n",
      "train Loss: 2.2989 Acc: 0.1061\n",
      "val Loss: 2.3140 Acc: 0.0147\n",
      "\n",
      "Epoch 12/24\n",
      "----------\n",
      "train Loss: 2.2987 Acc: 0.1052\n",
      "val Loss: 2.3137 Acc: 0.0147\n",
      "\n",
      "Epoch 13/24\n",
      "----------\n",
      "train Loss: 2.2985 Acc: 0.1006\n",
      "val Loss: 2.3138 Acc: 0.0147\n",
      "\n",
      "Epoch 14/24\n",
      "----------\n",
      "train Loss: 2.2984 Acc: 0.1070\n",
      "val Loss: 2.3137 Acc: 0.0147\n",
      "\n",
      "Epoch 15/24\n",
      "----------\n",
      "train Loss: 2.2982 Acc: 0.1052\n",
      "val Loss: 2.3138 Acc: 0.0147\n",
      "\n",
      "Epoch 16/24\n",
      "----------\n",
      "train Loss: 2.2978 Acc: 0.1052\n",
      "val Loss: 2.3138 Acc: 0.0147\n",
      "\n",
      "Epoch 17/24\n",
      "----------\n",
      "train Loss: 2.2980 Acc: 0.1052\n",
      "val Loss: 2.3138 Acc: 0.0147\n",
      "\n",
      "Epoch 18/24\n",
      "----------\n",
      "train Loss: 2.2980 Acc: 0.1052\n",
      "val Loss: 2.3138 Acc: 0.0147\n",
      "\n",
      "Epoch 19/24\n",
      "----------\n",
      "train Loss: 2.2979 Acc: 0.1052\n",
      "val Loss: 2.3138 Acc: 0.0147\n",
      "\n",
      "Epoch 20/24\n",
      "----------\n",
      "train Loss: 2.2979 Acc: 0.1043\n",
      "val Loss: 2.3137 Acc: 0.0147\n",
      "\n",
      "Epoch 21/24\n",
      "----------\n",
      "train Loss: 2.2978 Acc: 0.1043\n",
      "val Loss: 2.3137 Acc: 0.0147\n",
      "\n",
      "Epoch 22/24\n",
      "----------\n",
      "train Loss: 2.2979 Acc: 0.1052\n",
      "val Loss: 2.3138 Acc: 0.0147\n",
      "\n",
      "Epoch 23/24\n",
      "----------\n",
      "train Loss: 2.2978 Acc: 0.1052\n",
      "val Loss: 2.3138 Acc: 0.0147\n",
      "\n",
      "Epoch 24/24\n",
      "----------\n",
      "train Loss: 2.2979 Acc: 0.1061\n",
      "val Loss: 2.3138 Acc: 0.0147\n",
      "\n",
      "Training complete in 147m 35s\n",
      "Best val Acc: 0.220588\n"
     ]
    }
   ],
   "source": [
    "sm, hist = train_model(sm, criterion, optimizer_ft, exp_lr_scheduler, num_epochs=25)"
   ]
  },
  {
   "cell_type": "code",
   "execution_count": 4,
   "metadata": {
    "code_folding": []
   },
   "outputs": [],
   "source": [
    "def avgmodel(m, inp):\n",
    "    mn = torch.stack([m(inp[i].to(device)) for i in range(len(inp))]).squeeze().mean(0)\n",
    "    if len(mn.shape) == 1: return mn.max(0)[1]\n",
    "    return mn.max(1)[1]"
   ]
  },
  {
   "cell_type": "code",
   "execution_count": 11,
   "metadata": {},
   "outputs": [
    {
     "name": "stdout",
     "output_type": "stream",
     "text": [
      "tensor([[ 0.2475, -0.4040, -0.5777, -0.0768,  0.0328,  0.4112,  0.7051,\n",
      "          0.2025,  1.3419, -0.9156],\n",
      "        [ 0.1969,  0.5837, -0.0008,  0.5255,  0.1755, -0.2451,  1.1130,\n",
      "         -0.7582,  0.0414, -0.3068]], device='cuda:0')\n",
      "torch.Size([2, 10])\n"
     ]
    },
    {
     "data": {
      "text/plain": [
       "tensor([ 8,  6], device='cuda:0')"
      ]
     },
     "execution_count": 11,
     "metadata": {},
     "output_type": "execute_result"
    }
   ],
   "source": [
    "x, y = next(iter(dataloaders['train']))\n",
    "mn = torch.stack([m(x[i].to(device)) for i in range(len(x))]).squeeze().mean(0)\n",
    "print(mn)\n",
    "print(mn.shape)\n",
    "mn.max(1)[1]"
   ]
  },
  {
   "cell_type": "code",
   "execution_count": 15,
   "metadata": {},
   "outputs": [],
   "source": [
    "newtestds = MultiImageFolder(\"data/cities/\",data_transforms[\"test\"],len_seq=2)\n",
    "nt_dataloader = torch.utils.data.DataLoader(\n",
    "    newtestds,batch_size=BATCH, shuffle=True, num_workers=4, drop_last=True)\n",
    "class_names = newtestds.classes"
   ]
  },
  {
   "cell_type": "code",
   "execution_count": 16,
   "metadata": {},
   "outputs": [
    {
     "name": "stdout",
     "output_type": "stream",
     "text": [
      "0.652\n",
      "0.6519748352746799\n"
     ]
    },
    {
     "data": {
      "text/plain": [
       "<matplotlib.image.AxesImage at 0x7f46f75831d0>"
      ]
     },
     "execution_count": 16,
     "metadata": {},
     "output_type": "execute_result"
    },
    {
     "data": {
      "image/png": "[encoded data removed]",
      "text/plain": [
       "<matplotlib.figure.Figure at 0x7f4681d44550>"
      ]
     },
     "metadata": {},
     "output_type": "display_data"
    }
   ],
   "source": [
    "preds = []\n",
    "Y = []\n",
    "for x,y in nt_dataloader:\n",
    "    prs = avgmodel(m,x)\n",
    "#     prs = sm(x)[len(x)-1,:,:].max(1)[1]\n",
    "    preds +=list(prs)\n",
    "    Y += list(y)\n",
    "scor = metrics.accuracy_score(Y, preds)\n",
    "print( scor )\n",
    "print(metrics.f1_score(Y,preds, average=\"weighted\"))\n",
    "plt.matshow(metrics.confusion_matrix(Y,preds).astype(np.double))"
   ]
  },
  {
   "cell_type": "code",
   "execution_count": 18,
   "metadata": {},
   "outputs": [
    {
     "data": {
      "text/plain": [
       "<matplotlib.legend.Legend at 0x7f4680550048>"
      ]
     },
     "execution_count": 18,
     "metadata": {},
     "output_type": "execute_result"
    },
    {
     "data": {
      "image/png": "[encoded data removed]",
      "text/plain": [
       "<matplotlib.figure.Figure at 0x7f4671bf1b00>"
      ]
     },
     "metadata": {},
     "output_type": "display_data"
    }
   ],
   "source": [
    "x = [10,8,6,4, 2 \n",
    "]\n",
    "y1= [0.95,0.8709677419354839,0.8253012048192772,0.82, 0.652\n",
    "]\n",
    "y2=[0.95,0.8694682717292381,0.8250352445494066,0.8210904969040139, 0.6519748352746799\n",
    "]\n",
    "\n",
    "plt.plot(x,y1, label=\"ACC\")\n",
    "plt.plot(x,y2, label=\"F1\")\n",
    "plt.ylabel(\"Metric\")\n",
    "plt.xlabel(\"Num examples\")\n",
    "plt.legend()"
   ]
  },
  {
   "cell_type": "code",
   "execution_count": 13,
   "metadata": {},
   "outputs": [
    {
     "name": "stdout",
     "output_type": "stream",
     "text": [
      "0.6\n",
      "0.5748962905000057\n"
     ]
    },
    {
     "data": {
      "text/plain": [
       "<matplotlib.image.AxesImage at 0x7f432017e0f0>"
      ]
     },
     "execution_count": 13,
     "metadata": {},
     "output_type": "execute_result"
    },
    {
     "data": {
      "image/png": "[encoded data removed]",
      "text/plain": [
       "<matplotlib.figure.Figure at 0x7f4321a1c908>"
      ]
     },
     "metadata": {},
     "output_type": "display_data"
    }
   ],
   "source": [
    "scor = metrics.accuracy_score(Y, preds)\n",
    "print( scor )\n",
    "print(metrics.f1_score(Y,preds, average=\"weighted\"))\n",
    "plt.matshow(metrics.confusion_matrix(Y,preds).astype(np.double))"
   ]
  },
  {
   "cell_type": "code",
   "execution_count": 16,
   "metadata": {},
   "outputs": [
    {
     "data": {
      "text/plain": [
       "tensor([[[ 0.0395,  0.1186,  0.2006,  0.0897,  0.0829,  0.0907,  0.0668,\n",
       "           0.0928,  0.1574,  0.0610],\n",
       "         [ 0.0296,  0.1044,  0.4025,  0.0485,  0.0662,  0.0468,  0.0407,\n",
       "           0.0692,  0.1449,  0.0471]],\n",
       "\n",
       "        [[ 0.0172,  0.0475,  0.5648,  0.0503,  0.0398,  0.0293,  0.0723,\n",
       "           0.0562,  0.0728,  0.0498],\n",
       "         [ 0.0143,  0.0660,  0.3085,  0.0573,  0.0603,  0.0474,  0.0964,\n",
       "           0.0531,  0.1701,  0.1265]],\n",
       "\n",
       "        [[ 0.0193,  0.0432,  0.3705,  0.0484,  0.1606,  0.0406,  0.0742,\n",
       "           0.0473,  0.1235,  0.0724],\n",
       "         [ 0.0069,  0.0686,  0.5940,  0.0305,  0.0597,  0.0289,  0.0387,\n",
       "           0.0354,  0.1119,  0.0253]],\n",
       "\n",
       "        [[ 0.0192,  0.0687,  0.4567,  0.0727,  0.0475,  0.0289,  0.0297,\n",
       "           0.0693,  0.1643,  0.0430],\n",
       "         [ 0.0101,  0.0444,  0.6012,  0.0382,  0.0645,  0.0278,  0.0256,\n",
       "           0.0537,  0.0962,  0.0383]],\n",
       "\n",
       "        [[ 0.0402,  0.0892,  0.2531,  0.0645,  0.0485,  0.0333,  0.0593,\n",
       "           0.0697,  0.1940,  0.1483],\n",
       "         [ 0.0302,  0.0646,  0.2240,  0.0562,  0.1815,  0.0310,  0.0865,\n",
       "           0.0378,  0.1578,  0.1305]],\n",
       "\n",
       "        [[ 0.0183,  0.0693,  0.3903,  0.0238,  0.1662,  0.0367,  0.0556,\n",
       "           0.0421,  0.1378,  0.0598],\n",
       "         [ 0.0474,  0.0406,  0.3815,  0.0506,  0.1805,  0.0209,  0.0468,\n",
       "           0.0539,  0.1271,  0.0505]],\n",
       "\n",
       "        [[ 0.0163,  0.0572,  0.5570,  0.0442,  0.0403,  0.0563,  0.0291,\n",
       "           0.0754,  0.0710,  0.0531],\n",
       "         [ 0.0192,  0.0838,  0.2733,  0.1035,  0.0723,  0.0684,  0.0894,\n",
       "           0.0690,  0.1297,  0.0913]],\n",
       "\n",
       "        [[ 0.0150,  0.0399,  0.6344,  0.0413,  0.0446,  0.0195,  0.0223,\n",
       "           0.0503,  0.0857,  0.0470],\n",
       "         [ 0.0147,  0.0341,  0.5691,  0.0312,  0.0617,  0.0238,  0.0566,\n",
       "           0.0446,  0.0654,  0.0987]],\n",
       "\n",
       "        [[ 0.0229,  0.0479,  0.2622,  0.0625,  0.1311,  0.0307,  0.1312,\n",
       "           0.0503,  0.1526,  0.1085],\n",
       "         [ 0.0238,  0.0648,  0.3103,  0.0619,  0.1868,  0.0311,  0.1047,\n",
       "           0.0437,  0.1105,  0.0625]],\n",
       "\n",
       "        [[ 0.0211,  0.0502,  0.5113,  0.0336,  0.0720,  0.0219,  0.0385,\n",
       "           0.0537,  0.0786,  0.1189],\n",
       "         [ 0.0157,  0.0288,  0.5235,  0.0488,  0.0718,  0.0211,  0.0466,\n",
       "           0.0479,  0.1387,  0.0571]]], device='cuda:0')"
      ]
     },
     "execution_count": 16,
     "metadata": {},
     "output_type": "execute_result"
    }
   ],
   "source": [
    "len(sm(x))"
   ]
  },
  {
   "cell_type": "code",
   "execution_count": 15,
   "metadata": {},
   "outputs": [
    {
     "data": {
      "text/plain": [
       "[<matplotlib.lines.Line2D at 0x7f43201bbd30>]"
      ]
     },
     "execution_count": 15,
     "metadata": {},
     "output_type": "execute_result"
    },
    {
     "data": {
      "image/png": "[encoded data removed]",
      "text/plain": [
       "<matplotlib.figure.Figure at 0x7f432015d240>"
      ]
     },
     "metadata": {},
     "output_type": "display_data"
    }
   ],
   "source": [
    "plt.plot([b for a,b in hist[\"val\"]])"
   ]
  },
  {
   "cell_type": "code",
   "execution_count": null,
   "metadata": {},
   "outputs": [],
   "source": []
  }
 ],
 "metadata": {
  "kernelspec": {
   "display_name": "Python 3",
   "language": "python",
   "name": "python3"
  },
  "language_info": {
   "codemirror_mode": {
    "name": "ipython",
    "version": 3
   },
   "file_extension": ".py",
   "mimetype": "text/x-python",
   "name": "python",
   "nbconvert_exporter": "python",
   "pygments_lexer": "ipython3",
   "version": "3.6.4"
  }
 },
 "nbformat": 4,
 "nbformat_minor": 2
}
